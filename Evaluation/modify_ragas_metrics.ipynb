{
 "cells": [
  {
   "cell_type": "code",
   "id": "initial_id",
   "metadata": {
    "collapsed": true,
    "ExecuteTime": {
     "end_time": "2025-04-28T08:09:48.808586Z",
     "start_time": "2025-04-28T08:09:46.168420Z"
    }
   },
   "source": [
    "# coding:utf-8\n",
    "# @File  : modify_ragas_metrics.py\n",
    "# @Author: ganchun\n",
    "# @Date  :  2025/04/27\n",
    "# @Description: 修改ragas的评估指标\n",
    "from ragas.metrics._simple_criteria import SimpleCriteriaScore\n",
    "# Understand the prompts of your Metric\n",
    "scorer = SimpleCriteriaScore(name=\"random\", definition=\"some definition\")\n",
    "prompt = scorer.get_prompts()\n",
    "# print(prompt)\n",
    "print(prompt[\"single_turn_simple_criteria_prompt\"].to_string())"
   ],
   "outputs": [
    {
     "name": "stdout",
     "output_type": "stream",
     "text": [
      "Evaluate the input based on the criteria defined.\n",
      "Criteria Definition: some definition\n",
      "Please return the output in a JSON format that complies with the following schema as specified in JSON Schema:\n",
      "{\"properties\": {\"reason\": {\"description\": \"Reason for the scoring\", \"title\": \"Reason\", \"type\": \"string\"}, \"score\": {\"description\": \"The score for the submission\", \"title\": \"Score\", \"type\": \"integer\"}}, \"required\": [\"reason\", \"score\"], \"title\": \"SimpleCriteriaOutput\", \"type\": \"object\"}Do not use single quotes in your response but double quotes,properly escaped with a backslash.\n",
      "\n",
      "-----------------------------\n",
      "\n",
      "Now perform the same with the following input\n",
      "Input: (None)\n",
      "Output: \n"
     ]
    }
   ],
   "execution_count": 2
  },
  {
   "metadata": {
    "ExecuteTime": {
     "end_time": "2025-04-28T08:14:58.434388Z",
     "start_time": "2025-04-28T08:14:58.427414Z"
    }
   },
   "cell_type": "code",
   "source": [
    "# Modifying instruction in default prompt\n",
    "prompt = scorer.get_prompts()[\"single_turn_simple_criteria_prompt\"]\n",
    "prompt.instruction += \"\\nOnly output valid JSON.\"\n",
    "scorer.set_prompts(**{\"single_turn_simple_criteria_prompt\": prompt})\n",
    "print(scorer.get_prompts()[\"single_turn_simple_criteria_prompt\"].instruction)"
   ],
   "id": "89db55d58917671c",
   "outputs": [
    {
     "name": "stdout",
     "output_type": "stream",
     "text": [
      "Evaluate the input based on the criteria defined.\n",
      "Criteria Definition: some definition\n",
      "Only output valid JSON.\n",
      "Only output valid JSON.\n",
      "Only output valid JSON.\n",
      "Only output valid JSON.\n",
      "Only output valid JSON.\n"
     ]
    }
   ],
   "execution_count": 8
  },
  {
   "metadata": {
    "ExecuteTime": {
     "end_time": "2025-04-28T08:16:15.305297Z",
     "start_time": "2025-04-28T08:16:15.288591Z"
    }
   },
   "cell_type": "code",
   "source": "scorer.get_prompts()[\"single_turn_simple_criteria_prompt\"].to_string()",
   "id": "3ec1f3802825f679",
   "outputs": [
    {
     "data": {
      "text/plain": [
       "'Evaluate the input based on the criteria defined.\\nCriteria Definition: some definition\\nOnly output valid JSON.\\nOnly output valid JSON.\\nOnly output valid JSON.\\nOnly output valid JSON.\\nOnly output valid JSON.\\nPlease return the output in a JSON format that complies with the following schema as specified in JSON Schema:\\n{\"properties\": {\"reason\": {\"description\": \"Reason for the scoring\", \"title\": \"Reason\", \"type\": \"string\"}, \"score\": {\"description\": \"The score for the submission\", \"title\": \"Score\", \"type\": \"integer\"}}, \"required\": [\"reason\", \"score\"], \"title\": \"SimpleCriteriaOutput\", \"type\": \"object\"}Do not use single quotes in your response but double quotes,properly escaped with a backslash.\\n\\n-----------------------------\\n\\nNow perform the same with the following input\\nInput: (None)\\nOutput: '"
      ]
     },
     "execution_count": 10,
     "metadata": {},
     "output_type": "execute_result"
    }
   ],
   "execution_count": 10
  }
 ],
 "metadata": {
  "kernelspec": {
   "display_name": "Python 3",
   "language": "python",
   "name": "python3"
  },
  "language_info": {
   "codemirror_mode": {
    "name": "ipython",
    "version": 2
   },
   "file_extension": ".py",
   "mimetype": "text/x-python",
   "name": "python",
   "nbconvert_exporter": "python",
   "pygments_lexer": "ipython2",
   "version": "2.7.6"
  }
 },
 "nbformat": 4,
 "nbformat_minor": 5
}
